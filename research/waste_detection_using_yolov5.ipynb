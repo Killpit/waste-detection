{
  "nbformat": 4,
  "nbformat_minor": 0,
  "metadata": {
    "colab": {
      "provenance": [],
      "machine_shape": "hm",
      "gpuType": "T4"
    },
    "kernelspec": {
      "name": "python3",
      "display_name": "Python 3"
    },
    "language_info": {
      "name": "python"
    },
    "accelerator": "GPU"
  },
  "cells": [
    {
      "cell_type": "code",
      "execution_count": 1,
      "metadata": {
        "id": "2m77LcShXViW",
        "colab": {
          "base_uri": "https://localhost:8080/"
        },
        "outputId": "bda70ade-9842-4183-d841-fc4760a0e795"
      },
      "outputs": [
        {
          "output_type": "stream",
          "name": "stdout",
          "text": [
            "Sat Oct  7 18:42:58 2023       \n",
            "+-----------------------------------------------------------------------------+\n",
            "| NVIDIA-SMI 525.105.17   Driver Version: 525.105.17   CUDA Version: 12.0     |\n",
            "|-------------------------------+----------------------+----------------------+\n",
            "| GPU  Name        Persistence-M| Bus-Id        Disp.A | Volatile Uncorr. ECC |\n",
            "| Fan  Temp  Perf  Pwr:Usage/Cap|         Memory-Usage | GPU-Util  Compute M. |\n",
            "|                               |                      |               MIG M. |\n",
            "|===============================+======================+======================|\n",
            "|   0  Tesla T4            Off  | 00000000:00:04.0 Off |                    0 |\n",
            "| N/A   40C    P8     9W /  70W |      0MiB / 15360MiB |      0%      Default |\n",
            "|                               |                      |                  N/A |\n",
            "+-------------------------------+----------------------+----------------------+\n",
            "                                                                               \n",
            "+-----------------------------------------------------------------------------+\n",
            "| Processes:                                                                  |\n",
            "|  GPU   GI   CI        PID   Type   Process name                  GPU Memory |\n",
            "|        ID   ID                                                   Usage      |\n",
            "|=============================================================================|\n",
            "|  No running processes found                                                 |\n",
            "+-----------------------------------------------------------------------------+\n"
          ]
        }
      ],
      "source": [
        "!nvidia-smi"
      ]
    },
    {
      "cell_type": "code",
      "source": [
        "!git clone https://github.com/ultralytics/yolov5.git\n",
        "%cd yolov5"
      ],
      "metadata": {
        "id": "-k83o9H3Xrqi",
        "colab": {
          "base_uri": "https://localhost:8080/"
        },
        "outputId": "eb88061c-8467-4ffb-e7f9-d914a219802c"
      },
      "execution_count": 2,
      "outputs": [
        {
          "output_type": "stream",
          "name": "stdout",
          "text": [
            "Cloning into 'yolov5'...\n",
            "remote: Enumerating objects: 16003, done.\u001b[K\n",
            "remote: Counting objects: 100% (36/36), done.\u001b[K\n",
            "remote: Compressing objects: 100% (23/23), done.\u001b[K\n",
            "remote: Total 16003 (delta 21), reused 20 (delta 13), pack-reused 15967\u001b[K\n",
            "Receiving objects: 100% (16003/16003), 14.66 MiB | 14.66 MiB/s, done.\n",
            "Resolving deltas: 100% (10987/10987), done.\n",
            "/content/yolov5\n"
          ]
        }
      ]
    },
    {
      "cell_type": "code",
      "source": [
        "!pip install -qr requirements.txt\n",
        "import torch\n",
        "\n",
        "from IPython.display import Image, clear_output\n",
        "\n",
        "print('Setup complete. Using torch %s %s' % (torch.__version__, torch.cuda.get_device_properties(0) if torch.cuda.is_available() else 'CPU'))\n"
      ],
      "metadata": {
        "id": "5R-ZAvaUYAAb",
        "colab": {
          "base_uri": "https://localhost:8080/"
        },
        "outputId": "2416a323-2dc1-4426-9296-4f96cceac416"
      },
      "execution_count": 3,
      "outputs": [
        {
          "output_type": "stream",
          "name": "stdout",
          "text": [
            "\u001b[2K     \u001b[90m━━━━━━━━━━━━━━━━━━━━━━━━━━━━━━━━━━━━━━━\u001b[0m \u001b[32m190.0/190.0 kB\u001b[0m \u001b[31m4.1 MB/s\u001b[0m eta \u001b[36m0:00:00\u001b[0m\n",
            "\u001b[2K     \u001b[90m━━━━━━━━━━━━━━━━━━━━━━━━━━━━━━━━━━━━━━\u001b[0m \u001b[32m618.9/618.9 kB\u001b[0m \u001b[31m38.1 MB/s\u001b[0m eta \u001b[36m0:00:00\u001b[0m\n",
            "\u001b[2K     \u001b[90m━━━━━━━━━━━━━━━━━━━━━━━━━━━━━━━━━━━━━━━━\u001b[0m \u001b[32m62.7/62.7 kB\u001b[0m \u001b[31m7.5 MB/s\u001b[0m eta \u001b[36m0:00:00\u001b[0m\n",
            "\u001b[?25hSetup complete. Using torch 2.0.1+cu118 _CudaDeviceProperties(name='Tesla T4', major=7, minor=5, total_memory=15101MB, multi_processor_count=40)\n"
          ]
        }
      ]
    },
    {
      "cell_type": "code",
      "source": [
        "pwd"
      ],
      "metadata": {
        "id": "sOXvN3A2YY6-",
        "colab": {
          "base_uri": "https://localhost:8080/",
          "height": 35
        },
        "outputId": "fd0bda84-9892-4476-fa54-6ec1cff01349"
      },
      "execution_count": 4,
      "outputs": [
        {
          "output_type": "execute_result",
          "data": {
            "text/plain": [
              "'/content/yolov5'"
            ],
            "application/vnd.google.colaboratory.intrinsic+json": {
              "type": "string"
            }
          },
          "metadata": {},
          "execution_count": 4
        }
      ]
    },
    {
      "cell_type": "code",
      "source": [
        "%cd /content"
      ],
      "metadata": {
        "id": "LgErsnitY1XR",
        "colab": {
          "base_uri": "https://localhost:8080/"
        },
        "outputId": "89df637f-0b8e-4e88-dbbc-4874cf00ed3b"
      },
      "execution_count": 5,
      "outputs": [
        {
          "output_type": "stream",
          "name": "stdout",
          "text": [
            "/content\n"
          ]
        }
      ]
    },
    {
      "cell_type": "code",
      "source": [
        "import gdown\n",
        "\n",
        "url = \"https://drive.google.com/file/d/1Yg9VM9mGV9p7yV4X0iIEyEUAxXyMc5Sx/view?usp=share_link\"\n",
        "\n",
        "file_id = url.split(\"/\")[-2]\n",
        "print(file_id)\n",
        "prefix = 'https://drive.google.com/uc?/export=download&id='\n",
        "gdown.download(prefix + file_id)\n",
        "print(\"Data downloaded!\")"
      ],
      "metadata": {
        "id": "SVeY491EY4s7",
        "colab": {
          "base_uri": "https://localhost:8080/"
        },
        "outputId": "0dee983c-5214-4f72-d5b2-4d7068536598"
      },
      "execution_count": 6,
      "outputs": [
        {
          "output_type": "stream",
          "name": "stdout",
          "text": [
            "1Yg9VM9mGV9p7yV4X0iIEyEUAxXyMc5Sx\n"
          ]
        },
        {
          "output_type": "stream",
          "name": "stderr",
          "text": [
            "Downloading...\n",
            "From: https://drive.google.com/uc?/export=download&id=1Yg9VM9mGV9p7yV4X0iIEyEUAxXyMc5Sx\n",
            "To: /content/waste-detection-data.zip\n",
            "100%|██████████| 351k/351k [00:00<00:00, 114MB/s]"
          ]
        },
        {
          "output_type": "stream",
          "name": "stdout",
          "text": [
            "Data downloaded!\n"
          ]
        },
        {
          "output_type": "stream",
          "name": "stderr",
          "text": [
            "\n"
          ]
        }
      ]
    },
    {
      "cell_type": "code",
      "source": [
        "!unzip waste-detection-data.zip\n",
        "!rm -rf waste-detection-data.zip"
      ],
      "metadata": {
        "id": "NBnBMt1qZZmK",
        "outputId": "01b1106b-80e1-4c51-b0a3-bb372a9ae82d",
        "colab": {
          "base_uri": "https://localhost:8080/"
        }
      },
      "execution_count": 7,
      "outputs": [
        {
          "output_type": "stream",
          "name": "stdout",
          "text": [
            "Archive:  waste-detection-data.zip\n",
            "   creating: waste-detection-data/\n",
            "  inflating: __MACOSX/._waste-detection-data  \n",
            "  inflating: waste-detection-data/README.roboflow.txt  \n",
            "  inflating: __MACOSX/waste-detection-data/._README.roboflow.txt  \n",
            "   creating: waste-detection-data/valid/\n",
            "  inflating: __MACOSX/waste-detection-data/._valid  \n",
            "  inflating: waste-detection-data/README.dataset.txt  \n",
            "  inflating: __MACOSX/waste-detection-data/._README.dataset.txt  \n",
            "  inflating: waste-detection-data/.DS_Store  \n",
            "  inflating: __MACOSX/waste-detection-data/._.DS_Store  \n",
            "  inflating: waste-detection-data/data.yaml  \n",
            "  inflating: __MACOSX/waste-detection-data/._data.yaml  \n",
            "   creating: waste-detection-data/train/\n",
            "  inflating: __MACOSX/waste-detection-data/._train  \n",
            "  inflating: waste-detection-data/valid/.DS_Store  \n",
            "  inflating: __MACOSX/waste-detection-data/valid/._.DS_Store  \n",
            "   creating: waste-detection-data/valid/images/\n",
            "  inflating: __MACOSX/waste-detection-data/valid/._images  \n",
            "   creating: waste-detection-data/valid/labelTxt/\n",
            "  inflating: __MACOSX/waste-detection-data/valid/._labelTxt  \n",
            "  inflating: waste-detection-data/train/.DS_Store  \n",
            "  inflating: __MACOSX/waste-detection-data/train/._.DS_Store  \n",
            "   creating: waste-detection-data/train/images/\n",
            "  inflating: __MACOSX/waste-detection-data/train/._images  \n",
            "   creating: waste-detection-data/train/labelTxt/\n",
            "  inflating: __MACOSX/waste-detection-data/train/._labelTxt  \n",
            "  inflating: waste-detection-data/valid/images/paper2_jpg.rf.03080e779155753a518973e9da90ba34.jpg  \n",
            "  inflating: __MACOSX/waste-detection-data/valid/images/._paper2_jpg.rf.03080e779155753a518973e9da90ba34.jpg  \n",
            "  inflating: waste-detection-data/valid/images/cardboard2_jpg.rf.21b2835b8dc1dc86f578732075159cca.jpg  \n",
            "  inflating: __MACOSX/waste-detection-data/valid/images/._cardboard2_jpg.rf.21b2835b8dc1dc86f578732075159cca.jpg  \n",
            "  inflating: waste-detection-data/valid/images/plastic2_jpg.rf.1cbde75ffd0415756da57eea54cf9fd3.jpg  \n",
            "  inflating: __MACOSX/waste-detection-data/valid/images/._plastic2_jpg.rf.1cbde75ffd0415756da57eea54cf9fd3.jpg  \n",
            "  inflating: waste-detection-data/valid/images/glass2_jpg.rf.97008179fa0292bddf439524fc6d851d.jpg  \n",
            "  inflating: __MACOSX/waste-detection-data/valid/images/._glass2_jpg.rf.97008179fa0292bddf439524fc6d851d.jpg  \n",
            "  inflating: waste-detection-data/valid/images/metal2_jpg.rf.96b912317df79255910b38b3537b0dc3.jpg  \n",
            "  inflating: __MACOSX/waste-detection-data/valid/images/._metal2_jpg.rf.96b912317df79255910b38b3537b0dc3.jpg  \n",
            "  inflating: waste-detection-data/valid/images/trash2_jpg.rf.351447a7ac9833c7d2243a7e78ac5a07.jpg  \n",
            "  inflating: __MACOSX/waste-detection-data/valid/images/._trash2_jpg.rf.351447a7ac9833c7d2243a7e78ac5a07.jpg  \n",
            "  inflating: waste-detection-data/valid/labelTxt/paper2_jpg.rf.03080e779155753a518973e9da90ba34.txt  \n",
            "  inflating: __MACOSX/waste-detection-data/valid/labelTxt/._paper2_jpg.rf.03080e779155753a518973e9da90ba34.txt  \n",
            "  inflating: waste-detection-data/valid/labelTxt/cardboard2_jpg.rf.21b2835b8dc1dc86f578732075159cca.txt  \n",
            "  inflating: __MACOSX/waste-detection-data/valid/labelTxt/._cardboard2_jpg.rf.21b2835b8dc1dc86f578732075159cca.txt  \n",
            "  inflating: waste-detection-data/valid/labelTxt/plastic2_jpg.rf.1cbde75ffd0415756da57eea54cf9fd3.txt  \n",
            "  inflating: __MACOSX/waste-detection-data/valid/labelTxt/._plastic2_jpg.rf.1cbde75ffd0415756da57eea54cf9fd3.txt  \n",
            "  inflating: waste-detection-data/valid/labelTxt/metal2_jpg.rf.96b912317df79255910b38b3537b0dc3.txt  \n",
            "  inflating: __MACOSX/waste-detection-data/valid/labelTxt/._metal2_jpg.rf.96b912317df79255910b38b3537b0dc3.txt  \n",
            "  inflating: waste-detection-data/valid/labelTxt/trash2_jpg.rf.351447a7ac9833c7d2243a7e78ac5a07.txt  \n",
            "  inflating: __MACOSX/waste-detection-data/valid/labelTxt/._trash2_jpg.rf.351447a7ac9833c7d2243a7e78ac5a07.txt  \n",
            "  inflating: waste-detection-data/valid/labelTxt/glass2_jpg.rf.97008179fa0292bddf439524fc6d851d.txt  \n",
            "  inflating: __MACOSX/waste-detection-data/valid/labelTxt/._glass2_jpg.rf.97008179fa0292bddf439524fc6d851d.txt  \n",
            "  inflating: waste-detection-data/train/images/trash1_jpg.rf.723584a5ca98a0cb77a366d436f09e2c.jpg  \n",
            "  inflating: __MACOSX/waste-detection-data/train/images/._trash1_jpg.rf.723584a5ca98a0cb77a366d436f09e2c.jpg  \n",
            "  inflating: waste-detection-data/train/images/paper1_jpg.rf.2268fb13d93dcd5b8ff82ad21cee8e71.jpg  \n",
            "  inflating: __MACOSX/waste-detection-data/train/images/._paper1_jpg.rf.2268fb13d93dcd5b8ff82ad21cee8e71.jpg  \n",
            "  inflating: waste-detection-data/train/images/plastic1_jpg.rf.3a0dfd387e3a1307b589e177595200e7.jpg  \n",
            "  inflating: __MACOSX/waste-detection-data/train/images/._plastic1_jpg.rf.3a0dfd387e3a1307b589e177595200e7.jpg  \n",
            "  inflating: waste-detection-data/train/images/metal1_jpg.rf.305707a8ca4ab3d21d00ba769fdc158b.jpg  \n",
            "  inflating: __MACOSX/waste-detection-data/train/images/._metal1_jpg.rf.305707a8ca4ab3d21d00ba769fdc158b.jpg  \n",
            "  inflating: waste-detection-data/train/images/glass1_jpg.rf.2e650ae8f21f318773a0117fa8a9d16a.jpg  \n",
            "  inflating: __MACOSX/waste-detection-data/train/images/._glass1_jpg.rf.2e650ae8f21f318773a0117fa8a9d16a.jpg  \n",
            "  inflating: waste-detection-data/train/images/inputImage_jpg.rf.3aa649b194f7b2e37637266ddd7d2c80.jpg  \n",
            "  inflating: __MACOSX/waste-detection-data/train/images/._inputImage_jpg.rf.3aa649b194f7b2e37637266ddd7d2c80.jpg  \n",
            "  inflating: waste-detection-data/train/images/cardboard1_jpg.rf.3197bc8bc2ef5d6b476d2ac4ab53555e.jpg  \n",
            "  inflating: __MACOSX/waste-detection-data/train/images/._cardboard1_jpg.rf.3197bc8bc2ef5d6b476d2ac4ab53555e.jpg  \n",
            "  inflating: waste-detection-data/train/labelTxt/paper1_jpg.rf.2268fb13d93dcd5b8ff82ad21cee8e71.txt  \n",
            "  inflating: __MACOSX/waste-detection-data/train/labelTxt/._paper1_jpg.rf.2268fb13d93dcd5b8ff82ad21cee8e71.txt  \n",
            "  inflating: waste-detection-data/train/labelTxt/trash1_jpg.rf.723584a5ca98a0cb77a366d436f09e2c.txt  \n",
            "  inflating: __MACOSX/waste-detection-data/train/labelTxt/._trash1_jpg.rf.723584a5ca98a0cb77a366d436f09e2c.txt  \n",
            "  inflating: waste-detection-data/train/labelTxt/glass1_jpg.rf.2e650ae8f21f318773a0117fa8a9d16a.txt  \n",
            "  inflating: __MACOSX/waste-detection-data/train/labelTxt/._glass1_jpg.rf.2e650ae8f21f318773a0117fa8a9d16a.txt  \n",
            "  inflating: waste-detection-data/train/labelTxt/inputImage_jpg.rf.3aa649b194f7b2e37637266ddd7d2c80.txt  \n",
            "  inflating: __MACOSX/waste-detection-data/train/labelTxt/._inputImage_jpg.rf.3aa649b194f7b2e37637266ddd7d2c80.txt  \n",
            "  inflating: waste-detection-data/train/labelTxt/cardboard1_jpg.rf.3197bc8bc2ef5d6b476d2ac4ab53555e.txt  \n",
            "  inflating: __MACOSX/waste-detection-data/train/labelTxt/._cardboard1_jpg.rf.3197bc8bc2ef5d6b476d2ac4ab53555e.txt  \n",
            "  inflating: waste-detection-data/train/labelTxt/plastic1_jpg.rf.3a0dfd387e3a1307b589e177595200e7.txt  \n",
            "  inflating: __MACOSX/waste-detection-data/train/labelTxt/._plastic1_jpg.rf.3a0dfd387e3a1307b589e177595200e7.txt  \n",
            "  inflating: waste-detection-data/train/labelTxt/metal1_jpg.rf.305707a8ca4ab3d21d00ba769fdc158b.txt  \n",
            "  inflating: __MACOSX/waste-detection-data/train/labelTxt/._metal1_jpg.rf.305707a8ca4ab3d21d00ba769fdc158b.txt  \n"
          ]
        }
      ]
    },
    {
      "cell_type": "code",
      "source": [
        "%cat /content/waste-detection-data/data.yaml"
      ],
      "metadata": {
        "id": "_lpcdUQ_Ziq4",
        "colab": {
          "base_uri": "https://localhost:8080/"
        },
        "outputId": "f827cf59-b444-4870-de43-3c95f0357e64"
      },
      "execution_count": 8,
      "outputs": [
        {
          "output_type": "stream",
          "name": "stdout",
          "text": [
            "path: ../datasets/roboflow\n",
            "\n",
            "train: train/images\n",
            "val: valid/images\n",
            "test: test/images\n",
            "\n",
            "nc: 1\n",
            "names: ['waste']"
          ]
        }
      ]
    },
    {
      "cell_type": "code",
      "source": [
        "import yaml\n",
        "with open(\"/content/waste-detection-data/data.yaml\", 'r') as stream:\n",
        "  num_classes = str(yaml.safe_load(stream)['nc'])"
      ],
      "metadata": {
        "id": "lHn--iA4aF2S"
      },
      "execution_count": 9,
      "outputs": []
    },
    {
      "cell_type": "code",
      "source": [
        "num_classes"
      ],
      "metadata": {
        "id": "AvMDxxQiamYE",
        "colab": {
          "base_uri": "https://localhost:8080/",
          "height": 35
        },
        "outputId": "4c0fbecf-8177-487e-a97d-6bafb4c05351"
      },
      "execution_count": 10,
      "outputs": [
        {
          "output_type": "execute_result",
          "data": {
            "text/plain": [
              "'1'"
            ],
            "application/vnd.google.colaboratory.intrinsic+json": {
              "type": "string"
            }
          },
          "metadata": {},
          "execution_count": 10
        }
      ]
    },
    {
      "cell_type": "code",
      "source": [
        "%cat /content/yolov5/models/yolov5s.yaml"
      ],
      "metadata": {
        "id": "uC26knDbaq52",
        "colab": {
          "base_uri": "https://localhost:8080/"
        },
        "outputId": "de37148c-0529-419d-e95e-c7a1db6ef902"
      },
      "execution_count": 11,
      "outputs": [
        {
          "output_type": "stream",
          "name": "stdout",
          "text": [
            "# YOLOv5 🚀 by Ultralytics, AGPL-3.0 license\n",
            "\n",
            "# Parameters\n",
            "nc: 80  # number of classes\n",
            "depth_multiple: 0.33  # model depth multiple\n",
            "width_multiple: 0.50  # layer channel multiple\n",
            "anchors:\n",
            "  - [10,13, 16,30, 33,23]  # P3/8\n",
            "  - [30,61, 62,45, 59,119]  # P4/16\n",
            "  - [116,90, 156,198, 373,326]  # P5/32\n",
            "\n",
            "# YOLOv5 v6.0 backbone\n",
            "backbone:\n",
            "  # [from, number, module, args]\n",
            "  [[-1, 1, Conv, [64, 6, 2, 2]],  # 0-P1/2\n",
            "   [-1, 1, Conv, [128, 3, 2]],  # 1-P2/4\n",
            "   [-1, 3, C3, [128]],\n",
            "   [-1, 1, Conv, [256, 3, 2]],  # 3-P3/8\n",
            "   [-1, 6, C3, [256]],\n",
            "   [-1, 1, Conv, [512, 3, 2]],  # 5-P4/16\n",
            "   [-1, 9, C3, [512]],\n",
            "   [-1, 1, Conv, [1024, 3, 2]],  # 7-P5/32\n",
            "   [-1, 3, C3, [1024]],\n",
            "   [-1, 1, SPPF, [1024, 5]],  # 9\n",
            "  ]\n",
            "\n",
            "# YOLOv5 v6.0 head\n",
            "head:\n",
            "  [[-1, 1, Conv, [512, 1, 1]],\n",
            "   [-1, 1, nn.Upsample, [None, 2, 'nearest']],\n",
            "   [[-1, 6], 1, Concat, [1]],  # cat backbone P4\n",
            "   [-1, 3, C3, [512, False]],  # 13\n",
            "\n",
            "   [-1, 1, Conv, [256, 1, 1]],\n",
            "   [-1, 1, nn.Upsample, [None, 2, 'nearest']],\n",
            "   [[-1, 4], 1, Concat, [1]],  # cat backbone P3\n",
            "   [-1, 3, C3, [256, False]],  # 17 (P3/8-small)\n",
            "\n",
            "   [-1, 1, Conv, [256, 3, 2]],\n",
            "   [[-1, 14], 1, Concat, [1]],  # cat head P4\n",
            "   [-1, 3, C3, [512, False]],  # 20 (P4/16-medium)\n",
            "\n",
            "   [-1, 1, Conv, [512, 3, 2]],\n",
            "   [[-1, 10], 1, Concat, [1]],  # cat head P5\n",
            "   [-1, 3, C3, [1024, False]],  # 23 (P5/32-large)\n",
            "\n",
            "   [[17, 20, 23], 1, Detect, [nc, anchors]],  # Detect(P3, P4, P5)\n",
            "  ]\n"
          ]
        }
      ]
    },
    {
      "cell_type": "code",
      "source": [
        "from IPython.core.magic import register_line_cell_magic\n",
        "\n",
        "@register_line_cell_magic\n",
        "def writetemplate(line, cell):\n",
        "  with open(line, 'w') as f:\n",
        "    f.write(cell.format(**globals()))"
      ],
      "metadata": {
        "id": "O3MxyThSbEcH"
      },
      "execution_count": 12,
      "outputs": []
    },
    {
      "cell_type": "code",
      "source": [
        "%%writetemplate /content/yolov5/models/custom_yolov5s.yaml"
      ],
      "metadata": {
        "id": "wr7pzDn0bUXC"
      },
      "execution_count": 13,
      "outputs": []
    },
    {
      "cell_type": "code",
      "source": [
        "%%time\n",
        "%cd /content/yolov5/\n",
        "!python train.py --img 416 --batch 16 --epochs 50 --data '/content/waste-detection-data/data.yaml' --cfg ./models/custom_yolov5s.yaml --weights 'yolov5s.pt' --name yolov5s_results  --cache"
      ],
      "metadata": {
        "id": "ajMoE-ncbiRr",
        "colab": {
          "base_uri": "https://localhost:8080/"
        },
        "outputId": "1a655b1a-2bec-4cf1-c84a-e7a4bdad048e"
      },
      "execution_count": 16,
      "outputs": [
        {
          "output_type": "stream",
          "name": "stdout",
          "text": [
            "/content/yolov5\n",
            "\u001b[34m\u001b[1mtrain: \u001b[0mweights=yolov5s.pt, cfg=./models/custom_yolov5s.yaml, data=/content/waste-detection-data/data.yaml, hyp=data/hyps/hyp.scratch-low.yaml, epochs=50, batch_size=16, imgsz=416, rect=False, resume=False, nosave=False, noval=False, noautoanchor=False, noplots=False, evolve=None, bucket=, cache=ram, image_weights=False, device=, multi_scale=False, single_cls=False, optimizer=SGD, sync_bn=False, workers=8, project=runs/train, name=yolov5s_results, exist_ok=False, quad=False, cos_lr=False, label_smoothing=0.0, patience=100, freeze=[0], save_period=-1, seed=0, local_rank=-1, entity=None, upload_dataset=False, bbox_interval=-1, artifact_alias=latest\n",
            "\u001b[34m\u001b[1mgithub: \u001b[0mup to date with https://github.com/ultralytics/yolov5 ✅\n",
            "YOLOv5 🚀 v7.0-226-gdd9e338 Python-3.10.12 torch-2.0.1+cu118 CUDA:0 (Tesla T4, 15102MiB)\n",
            "\n",
            "\u001b[34m\u001b[1mhyperparameters: \u001b[0mlr0=0.01, lrf=0.01, momentum=0.937, weight_decay=0.0005, warmup_epochs=3.0, warmup_momentum=0.8, warmup_bias_lr=0.1, box=0.05, cls=0.5, cls_pw=1.0, obj=1.0, obj_pw=1.0, iou_t=0.2, anchor_t=4.0, fl_gamma=0.0, hsv_h=0.015, hsv_s=0.7, hsv_v=0.4, degrees=0.0, translate=0.1, scale=0.5, shear=0.0, perspective=0.0, flipud=0.0, fliplr=0.5, mosaic=1.0, mixup=0.0, copy_paste=0.0\n",
            "\u001b[34m\u001b[1mComet: \u001b[0mrun 'pip install comet_ml' to automatically track and visualize YOLOv5 🚀 runs in Comet\n",
            "\u001b[34m\u001b[1mTensorBoard: \u001b[0mStart with 'tensorboard --logdir runs/train', view at http://localhost:6006/\n",
            "\n",
            "Dataset not found ⚠️, missing paths ['/content/datasets/roboflow/valid/images']\n",
            "Traceback (most recent call last):\n",
            "  File \"/content/yolov5/train.py\", line 647, in <module>\n",
            "    main(opt)\n",
            "  File \"/content/yolov5/train.py\", line 536, in main\n",
            "    train(opt.hyp, opt, device, callbacks)\n",
            "  File \"/content/yolov5/train.py\", line 117, in train\n",
            "    data_dict = data_dict or check_dataset(data)  # check if None\n",
            "  File \"/content/yolov5/utils/general.py\", line 527, in check_dataset\n",
            "    raise Exception('Dataset not found ❌')\n",
            "Exception: Dataset not found ❌\n",
            "CPU times: user 50.6 ms, sys: 5.79 ms, total: 56.3 ms\n",
            "Wall time: 7.63 s\n"
          ]
        }
      ]
    }
  ]
}